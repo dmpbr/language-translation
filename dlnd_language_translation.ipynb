{
 "cells": [
  {
   "cell_type": "markdown",
   "metadata": {
    "collapsed": true
   },
   "source": [
    "# Language Translation\n",
    "In this project, you’re going to take a peek into the realm of neural network machine translation.  You’ll be training a sequence to sequence model on a dataset of English and French sentences that can translate new sentences from English to French.\n",
    "## Get the Data\n",
    "Since translating the whole language of English to French will take lots of time to train, we have provided you with a small portion of the English corpus."
   ]
  },
  {
   "cell_type": "code",
   "execution_count": 1,
   "metadata": {
    "collapsed": true
   },
   "outputs": [],
   "source": [
    "\"\"\"\n",
    "DON'T MODIFY ANYTHING IN THIS CELL\n",
    "\"\"\"\n",
    "import helper\n",
    "import problem_unittests as tests\n",
    "\n",
    "source_path = 'data/small_vocab_en'\n",
    "target_path = 'data/small_vocab_fr'\n",
    "source_text = helper.load_data(source_path)\n",
    "target_text = helper.load_data(target_path)"
   ]
  },
  {
   "cell_type": "markdown",
   "metadata": {},
   "source": [
    "## Explore the Data\n",
    "Play around with view_sentence_range to view different parts of the data."
   ]
  },
  {
   "cell_type": "code",
   "execution_count": 2,
   "metadata": {},
   "outputs": [
    {
     "name": "stdout",
     "output_type": "stream",
     "text": [
      "Dataset Stats\n",
      "Roughly the number of unique words: 227\n",
      "Number of sentences: 137861\n",
      "Average number of words in a sentence: 13.225277634719028\n",
      "\n",
      "English sentences 0 to 10:\n",
      "new jersey is sometimes quiet during autumn , and it is snowy in april .\n",
      "the united states is usually chilly during july , and it is usually freezing in november .\n",
      "california is usually quiet during march , and it is usually hot in june .\n",
      "the united states is sometimes mild during june , and it is cold in september .\n",
      "your least liked fruit is the grape , but my least liked is the apple .\n",
      "his favorite fruit is the orange , but my favorite is the grape .\n",
      "paris is relaxing during december , but it is usually chilly in july .\n",
      "new jersey is busy during spring , and it is never hot in march .\n",
      "our least liked fruit is the lemon , but my least liked is the grape .\n",
      "the united states is sometimes busy during january , and it is sometimes warm in november .\n",
      "\n",
      "French sentences 0 to 10:\n",
      "new jersey est parfois calme pendant l' automne , et il est neigeux en avril .\n",
      "les états-unis est généralement froid en juillet , et il gèle habituellement en novembre .\n",
      "california est généralement calme en mars , et il est généralement chaud en juin .\n",
      "les états-unis est parfois légère en juin , et il fait froid en septembre .\n",
      "votre moins aimé fruit est le raisin , mais mon moins aimé est la pomme .\n",
      "son fruit préféré est l'orange , mais mon préféré est le raisin .\n",
      "paris est relaxant en décembre , mais il est généralement froid en juillet .\n",
      "new jersey est occupé au printemps , et il est jamais chaude en mars .\n",
      "notre fruit est moins aimé le citron , mais mon moins aimé est le raisin .\n",
      "les états-unis est parfois occupé en janvier , et il est parfois chaud en novembre .\n"
     ]
    }
   ],
   "source": [
    "view_sentence_range = (0, 10)\n",
    "\n",
    "\"\"\"\n",
    "DON'T MODIFY ANYTHING IN THIS CELL\n",
    "\"\"\"\n",
    "import numpy as np\n",
    "\n",
    "print('Dataset Stats')\n",
    "print('Roughly the number of unique words: {}'.format(len({word: None for word in source_text.split()})))\n",
    "\n",
    "sentences = source_text.split('\\n')\n",
    "word_counts = [len(sentence.split()) for sentence in sentences]\n",
    "print('Number of sentences: {}'.format(len(sentences)))\n",
    "print('Average number of words in a sentence: {}'.format(np.average(word_counts)))\n",
    "\n",
    "print()\n",
    "print('English sentences {} to {}:'.format(*view_sentence_range))\n",
    "print('\\n'.join(source_text.split('\\n')[view_sentence_range[0]:view_sentence_range[1]]))\n",
    "print()\n",
    "print('French sentences {} to {}:'.format(*view_sentence_range))\n",
    "print('\\n'.join(target_text.split('\\n')[view_sentence_range[0]:view_sentence_range[1]]))"
   ]
  },
  {
   "cell_type": "markdown",
   "metadata": {},
   "source": [
    "## Implement Preprocessing Function\n",
    "### Text to Word Ids\n",
    "As you did with other RNNs, you must turn the text into a number so the computer can understand it. In the function `text_to_ids()`, you'll turn `source_text` and `target_text` from words to ids.  However, you need to add the `<EOS>` word id at the end of `target_text`.  This will help the neural network predict when the sentence should end.\n",
    "\n",
    "You can get the `<EOS>` word id by doing:\n",
    "```python\n",
    "target_vocab_to_int['<EOS>']\n",
    "```\n",
    "You can get other word ids using `source_vocab_to_int` and `target_vocab_to_int`."
   ]
  },
  {
   "cell_type": "code",
   "execution_count": 3,
   "metadata": {},
   "outputs": [
    {
     "name": "stdout",
     "output_type": "stream",
     "text": [
      "Tests Passed\n"
     ]
    }
   ],
   "source": [
    "def text_to_ids(source_text, target_text, source_vocab_to_int, target_vocab_to_int):\n",
    "    \"\"\"\n",
    "    Convert source and target text to proper word ids\n",
    "    :param source_text: String that contains all the source text.\n",
    "    :param target_text: String that contains all the target text.\n",
    "    :param source_vocab_to_int: Dictionary to go from the source words to an id\n",
    "    :param target_vocab_to_int: Dictionary to go from the target words to an id\n",
    "    :return: A tuple of lists (source_id_text, target_id_text)\n",
    "    \"\"\"\n",
    "    #Convert source_text to ints:\n",
    "    source_text_id = [[source_vocab_to_int[word] for word in line.split()] for line in source_text.split('\\n')]\n",
    "    \n",
    "    #Convert target_text to ints but adding <EOS> to the end of each line\n",
    "    target_text_id = [[target_vocab_to_int[word] for word in (line+' <EOS> ').split()] for line in target_text.split('\\n')]\n",
    "    \n",
    "    return (source_text_id, target_text_id)\n",
    "\n",
    "\"\"\"\n",
    "DON'T MODIFY ANYTHING IN THIS CELL THAT IS BELOW THIS LINE\n",
    "\"\"\"\n",
    "tests.test_text_to_ids(text_to_ids)"
   ]
  },
  {
   "cell_type": "markdown",
   "metadata": {},
   "source": [
    "### Preprocess all the data and save it\n",
    "Running the code cell below will preprocess all the data and save it to file."
   ]
  },
  {
   "cell_type": "code",
   "execution_count": 4,
   "metadata": {
    "collapsed": true
   },
   "outputs": [],
   "source": [
    "\"\"\"\n",
    "DON'T MODIFY ANYTHING IN THIS CELL\n",
    "\"\"\"\n",
    "helper.preprocess_and_save_data(source_path, target_path, text_to_ids)"
   ]
  },
  {
   "cell_type": "markdown",
   "metadata": {},
   "source": [
    "# Check Point\n",
    "This is your first checkpoint. If you ever decide to come back to this notebook or have to restart the notebook, you can start from here. The preprocessed data has been saved to disk."
   ]
  },
  {
   "cell_type": "code",
   "execution_count": 5,
   "metadata": {
    "collapsed": true
   },
   "outputs": [],
   "source": [
    "\"\"\"\n",
    "DON'T MODIFY ANYTHING IN THIS CELL\n",
    "\"\"\"\n",
    "import numpy as np\n",
    "import helper\n",
    "import problem_unittests as tests\n",
    "\n",
    "(source_int_text, target_int_text), (source_vocab_to_int, target_vocab_to_int), _ = helper.load_preprocess()"
   ]
  },
  {
   "cell_type": "markdown",
   "metadata": {},
   "source": [
    "### Check the Version of TensorFlow and Access to GPU\n",
    "This will check to make sure you have the correct version of TensorFlow and access to a GPU"
   ]
  },
  {
   "cell_type": "code",
   "execution_count": 6,
   "metadata": {},
   "outputs": [
    {
     "name": "stdout",
     "output_type": "stream",
     "text": [
      "TensorFlow Version: 1.1.0\n"
     ]
    },
    {
     "name": "stderr",
     "output_type": "stream",
     "text": [
      "/Users/diogo/anaconda/envs/tensorflow/lib/python3.5/site-packages/ipykernel_launcher.py:15: UserWarning: No GPU found. Please use a GPU to train your neural network.\n",
      "  from ipykernel import kernelapp as app\n"
     ]
    }
   ],
   "source": [
    "\"\"\"\n",
    "DON'T MODIFY ANYTHING IN THIS CELL\n",
    "\"\"\"\n",
    "from distutils.version import LooseVersion\n",
    "import warnings\n",
    "import tensorflow as tf\n",
    "from tensorflow.python.layers.core import Dense\n",
    "\n",
    "# Check TensorFlow Version\n",
    "assert LooseVersion(tf.__version__) >= LooseVersion('1.1'), 'Please use TensorFlow version 1.1 or newer'\n",
    "print('TensorFlow Version: {}'.format(tf.__version__))\n",
    "\n",
    "# Check for a GPU\n",
    "if not tf.test.gpu_device_name():\n",
    "    warnings.warn('No GPU found. Please use a GPU to train your neural network.')\n",
    "else:\n",
    "    print('Default GPU Device: {}'.format(tf.test.gpu_device_name()))"
   ]
  },
  {
   "cell_type": "markdown",
   "metadata": {},
   "source": [
    "## Build the Neural Network\n",
    "You'll build the components necessary to build a Sequence-to-Sequence model by implementing the following functions below:\n",
    "- `model_inputs`\n",
    "- `process_decoder_input`\n",
    "- `encoding_layer`\n",
    "- `decoding_layer_train`\n",
    "- `decoding_layer_infer`\n",
    "- `decoding_layer`\n",
    "- `seq2seq_model`\n",
    "\n",
    "### Input\n",
    "Implement the `model_inputs()` function to create TF Placeholders for the Neural Network. It should create the following placeholders:\n",
    "\n",
    "- Input text placeholder named \"input\" using the TF Placeholder name parameter with rank 2.\n",
    "- Targets placeholder with rank 2.\n",
    "- Learning rate placeholder with rank 0.\n",
    "- Keep probability placeholder named \"keep_prob\" using the TF Placeholder name parameter with rank 0.\n",
    "- Target sequence length placeholder named \"target_sequence_length\" with rank 1\n",
    "- Max target sequence length tensor named \"max_target_len\" getting its value from applying tf.reduce_max on the target_sequence_length placeholder. Rank 0.\n",
    "- Source sequence length placeholder named \"source_sequence_length\" with rank 1\n",
    "\n",
    "Return the placeholders in the following the tuple (input, targets, learning rate, keep probability, target sequence length, max target sequence length, source sequence length)"
   ]
  },
  {
   "cell_type": "code",
   "execution_count": 7,
   "metadata": {},
   "outputs": [
    {
     "name": "stdout",
     "output_type": "stream",
     "text": [
      "Tests Passed\n"
     ]
    }
   ],
   "source": [
    "def model_inputs():\n",
    "    \"\"\"\n",
    "    Create TF Placeholders for input, targets, learning rate, and lengths of source and target sequences.\n",
    "    :return: Tuple (input, targets, learning rate, keep probability, target sequence length,\n",
    "    max target sequence length, source sequence length)\n",
    "    \"\"\" \n",
    "    input_data = tf.placeholder(tf.int32, [None, None], name='input')\n",
    "    target_data = tf.placeholder(tf.int32, [None, None], name='targets')\n",
    "    lr = tf.placeholder(tf.float32, name='learning_rate')\n",
    "    keep_prob = tf.placeholder(tf.float32, name='keep_prob')\n",
    "    target_seq_length = tf.placeholder(tf.int32, (None, ), name='target_sequence_length')\n",
    "    max_target_seq_length = tf.reduce_max(target_seq_length, name='max_target_len')\n",
    "    source_seq_length =tf.placeholder(tf.int32, (None, ), name='source_sequence_length')\n",
    "    return (input_data, target_data, lr, keep_prob, target_seq_length, max_target_seq_length, source_seq_length)\n",
    "\n",
    "\n",
    "\"\"\"\n",
    "DON'T MODIFY ANYTHING IN THIS CELL THAT IS BELOW THIS LINE\n",
    "\"\"\"\n",
    "tests.test_model_inputs(model_inputs)"
   ]
  },
  {
   "cell_type": "markdown",
   "metadata": {},
   "source": [
    "### Process Decoder Input\n",
    "Implement `process_decoder_input` by removing the last word id from each batch in `target_data` and concat the GO ID to the begining of each batch."
   ]
  },
  {
   "cell_type": "code",
   "execution_count": 8,
   "metadata": {},
   "outputs": [
    {
     "name": "stdout",
     "output_type": "stream",
     "text": [
      "Tests Passed\n"
     ]
    }
   ],
   "source": [
    "def process_decoder_input(target_data, target_vocab_to_int, batch_size):\n",
    "    \"\"\"\n",
    "    Preprocess target data for encoding\n",
    "    :param target_data: Target Placehoder\n",
    "    :param target_vocab_to_int: Dictionary to go from the target words to an id\n",
    "    :param batch_size: Batch Size\n",
    "    :return: Preprocessed target data\n",
    "    \"\"\"\n",
    "    # For this function I'll use the tf.strided_slice as shown in the seq2seq workbook. \n",
    "    remove_last_word = tf.strided_slice(target_data, [0, 0], [batch_size, -1], [1,1])\n",
    "    prepross_target = tf.concat([tf.fill([batch_size, 1], target_vocab_to_int['<GO>']), remove_last_word], 1)\n",
    "    return prepross_target\n",
    "\n",
    "\"\"\"\n",
    "DON'T MODIFY ANYTHING IN THIS CELL THAT IS BELOW THIS LINE\n",
    "\"\"\"\n",
    "tests.test_process_encoding_input(process_decoder_input)"
   ]
  },
  {
   "cell_type": "markdown",
   "metadata": {},
   "source": [
    "### Encoding\n",
    "Implement `encoding_layer()` to create a Encoder RNN layer:\n",
    " * Embed the encoder input using [`tf.contrib.layers.embed_sequence`](https://www.tensorflow.org/api_docs/python/tf/contrib/layers/embed_sequence)\n",
    " * Construct a [stacked](https://github.com/tensorflow/tensorflow/blob/6947f65a374ebf29e74bb71e36fd82760056d82c/tensorflow/docs_src/tutorials/recurrent.md#stacking-multiple-lstms) [`tf.contrib.rnn.LSTMCell`](https://www.tensorflow.org/api_docs/python/tf/contrib/rnn/LSTMCell) wrapped in a [`tf.contrib.rnn.DropoutWrapper`](https://www.tensorflow.org/api_docs/python/tf/contrib/rnn/DropoutWrapper)\n",
    " * Pass cell and embedded input to [`tf.nn.dynamic_rnn()`](https://www.tensorflow.org/api_docs/python/tf/nn/dynamic_rnn)"
   ]
  },
  {
   "cell_type": "code",
   "execution_count": 9,
   "metadata": {
    "scrolled": false
   },
   "outputs": [
    {
     "name": "stdout",
     "output_type": "stream",
     "text": [
      "Tests Passed\n"
     ]
    }
   ],
   "source": [
    "from imp import reload\n",
    "reload(tests)\n",
    "\n",
    "def encoding_layer(rnn_inputs, rnn_size, num_layers, keep_prob, \n",
    "                   source_sequence_length, source_vocab_size, \n",
    "                   encoding_embedding_size):\n",
    "    \"\"\"\n",
    "    Create encoding layer\n",
    "    :param rnn_inputs: Inputs for the RNN\n",
    "    :param rnn_size: RNN Size\n",
    "    :param num_layers: Number of layers\n",
    "    :param keep_prob: Dropout keep probability\n",
    "    :param source_sequence_length: a list of the lengths of each sequence in the batch\n",
    "    :param source_vocab_size: vocabulary size of source data\n",
    "    :param encoding_embedding_size: embedding size of source data\n",
    "    :return: tuple (RNN output, RNN state)\n",
    "    \"\"\"\n",
    "    # First thing to do is to embed the encoder input:\n",
    "    embed_input = tf.contrib.layers.embed_sequence(rnn_inputs, source_vocab_size, encoding_embedding_size)\n",
    "    \n",
    "    #Create RNN cell with Dropout Wrapper\n",
    "    def make_cell(rnn_size, keep_prob):\n",
    "        lstm = tf.contrib.rnn.LSTMCell(rnn_size, initializer=tf.random_uniform_initializer(-0.1, 0.1))\n",
    "        drop = tf.contrib.rnn.DropoutWrapper(lstm, output_keep_prob=keep_prob)\n",
    "        return drop\n",
    "    \n",
    "    rnn_cell = tf.contrib.rnn.MultiRNNCell([make_cell(rnn_size, keep_prob) for _ in range(num_layers)])\n",
    "    \n",
    "    rnn_output, rnn_state = tf.nn.dynamic_rnn(rnn_cell, embed_input, sequence_length=source_sequence_length, dtype=tf.float32)\n",
    "\n",
    "    return (rnn_output, rnn_state)\n",
    "\n",
    "\"\"\"\n",
    "DON'T MODIFY ANYTHING IN THIS CELL THAT IS BELOW THIS LINE\n",
    "\"\"\"\n",
    "tests.test_encoding_layer(encoding_layer)"
   ]
  },
  {
   "cell_type": "markdown",
   "metadata": {},
   "source": [
    "### Decoding - Training\n",
    "Create a training decoding layer:\n",
    "* Create a [`tf.contrib.seq2seq.TrainingHelper`](https://www.tensorflow.org/api_docs/python/tf/contrib/seq2seq/TrainingHelper) \n",
    "* Create a [`tf.contrib.seq2seq.BasicDecoder`](https://www.tensorflow.org/api_docs/python/tf/contrib/seq2seq/BasicDecoder)\n",
    "* Obtain the decoder outputs from [`tf.contrib.seq2seq.dynamic_decode`](https://www.tensorflow.org/api_docs/python/tf/contrib/seq2seq/dynamic_decode)"
   ]
  },
  {
   "cell_type": "code",
   "execution_count": 10,
   "metadata": {},
   "outputs": [
    {
     "name": "stdout",
     "output_type": "stream",
     "text": [
      "Tests Passed\n"
     ]
    }
   ],
   "source": [
    "\n",
    "def decoding_layer_train(encoder_state, dec_cell, dec_embed_input, \n",
    "                         target_sequence_length, max_summary_length, \n",
    "                         output_layer, keep_prob):\n",
    "    \"\"\"\n",
    "    Create a decoding layer for training\n",
    "    :param encoder_state: Encoder State\n",
    "    :param dec_cell: Decoder RNN Cell\n",
    "    :param dec_embed_input: Decoder embedded input\n",
    "    :param target_sequence_length: The lengths of each sequence in the target batch\n",
    "    :param max_summary_length: The length of the longest sequence in the batch\n",
    "    :param output_layer: Function to apply the output layer\n",
    "    :param keep_prob: Dropout keep probability\n",
    "    :return: BasicDecoderOutput containing training logits and sample_id\n",
    "    \"\"\"\n",
    "    #Define the training helper\n",
    "    training_helper = tf.contrib.seq2seq.TrainingHelper(inputs=dec_embed_input, sequence_length=target_sequence_length)\n",
    "    #Define the basic decoder \n",
    "    training_decoder = tf.contrib.seq2seq.BasicDecoder(dec_cell,training_helper,encoder_state,output_layer)\n",
    "    #Perform dynamic decoding. Note that impute_finished = true to ensure that the final state\n",
    "    #and outputs have the correct values.\n",
    "    (final_outputs, final_state) = tf.contrib.seq2seq.dynamic_decode(training_decoder,impute_finished=True,\n",
    "                                                                     maximum_iterations=max_summary_length)\n",
    "    return final_outputs\n",
    "\n",
    "\n",
    "\n",
    "\"\"\"\n",
    "DON'T MODIFY ANYTHING IN THIS CELL THAT IS BELOW THIS LINE\n",
    "\"\"\"\n",
    "tests.test_decoding_layer_train(decoding_layer_train)"
   ]
  },
  {
   "cell_type": "markdown",
   "metadata": {},
   "source": [
    "### Decoding - Inference\n",
    "Create inference decoder:\n",
    "* Create a [`tf.contrib.seq2seq.GreedyEmbeddingHelper`](https://www.tensorflow.org/api_docs/python/tf/contrib/seq2seq/GreedyEmbeddingHelper)\n",
    "* Create a [`tf.contrib.seq2seq.BasicDecoder`](https://www.tensorflow.org/api_docs/python/tf/contrib/seq2seq/BasicDecoder)\n",
    "* Obtain the decoder outputs from [`tf.contrib.seq2seq.dynamic_decode`](https://www.tensorflow.org/api_docs/python/tf/contrib/seq2seq/dynamic_decode)"
   ]
  },
  {
   "cell_type": "code",
   "execution_count": 11,
   "metadata": {
    "scrolled": true
   },
   "outputs": [
    {
     "name": "stdout",
     "output_type": "stream",
     "text": [
      "Tests Passed\n"
     ]
    }
   ],
   "source": [
    "def decoding_layer_infer(encoder_state, dec_cell, dec_embeddings, start_of_sequence_id,\n",
    "                         end_of_sequence_id, max_target_sequence_length,\n",
    "                         vocab_size, output_layer, batch_size, keep_prob):\n",
    "    \"\"\"\n",
    "    Create a decoding layer for inference\n",
    "    :param encoder_state: Encoder state\n",
    "    :param dec_cell: Decoder RNN Cell\n",
    "    :param dec_embeddings: Decoder embeddings\n",
    "    :param start_of_sequence_id: GO ID\n",
    "    :param end_of_sequence_id: EOS Id\n",
    "    :param max_target_sequence_length: Maximum length of target sequences\n",
    "    :param vocab_size: Size of decoder/target vocabulary\n",
    "    :param decoding_scope: TenorFlow Variable Scope for decoding\n",
    "    :param output_layer: Function to apply the output layer\n",
    "    :param batch_size: Batch size\n",
    "    :param keep_prob: Dropout keep probability\n",
    "    :return: BasicDecoderOutput containing inference logits and sample_id\n",
    "    \"\"\"\n",
    "    # Here reusing the parameters of the training decoder:\n",
    "    start_tokens = tf.tile(tf.constant([start_of_sequence_id], dtype=tf.int32), [batch_size], name='start_tokens')\n",
    "    # Helper for the inference process\n",
    "    inference_helper = tf.contrib.seq2seq.GreedyEmbeddingHelper(dec_embeddings, start_tokens, end_of_sequence_id)\n",
    "    #Define the basic decoder\n",
    "    inference_decoder = tf.contrib.seq2seq.BasicDecoder(dec_cell,inference_helper,encoder_state,output_layer)\n",
    "    # Perform dynamic decoding using the decoder\n",
    "    (final_outputs, final_state) = tf.contrib.seq2seq.dynamic_decode(inference_decoder,impute_finished=True,\n",
    "                                                        maximum_iterations=max_target_sequence_length)\n",
    "        \n",
    "    return final_outputs\n",
    "\n",
    "\n",
    "\n",
    "\"\"\"\n",
    "DON'T MODIFY ANYTHING IN THIS CELL THAT IS BELOW THIS LINE\n",
    "\"\"\"\n",
    "tests.test_decoding_layer_infer(decoding_layer_infer)"
   ]
  },
  {
   "cell_type": "markdown",
   "metadata": {},
   "source": [
    "### Build the Decoding Layer\n",
    "Implement `decoding_layer()` to create a Decoder RNN layer.\n",
    "\n",
    "* Embed the target sequences\n",
    "* Construct the decoder LSTM cell (just like you constructed the encoder cell above)\n",
    "* Create an output layer to map the outputs of the decoder to the elements of our vocabulary\n",
    "* Use the your `decoding_layer_train(encoder_state, dec_cell, dec_embed_input, target_sequence_length, max_target_sequence_length, output_layer, keep_prob)` function to get the training logits.\n",
    "* Use your `decoding_layer_infer(encoder_state, dec_cell, dec_embeddings, start_of_sequence_id, end_of_sequence_id, max_target_sequence_length, vocab_size, output_layer, batch_size, keep_prob)` function to get the inference logits.\n",
    "\n",
    "Note: You'll need to use [tf.variable_scope](https://www.tensorflow.org/api_docs/python/tf/variable_scope) to share variables between training and inference."
   ]
  },
  {
   "cell_type": "code",
   "execution_count": 12,
   "metadata": {},
   "outputs": [
    {
     "name": "stdout",
     "output_type": "stream",
     "text": [
      "Tests Passed\n"
     ]
    }
   ],
   "source": [
    "from tensorflow.python.layers.core import Dense\n",
    "\n",
    "def decoding_layer(dec_input, encoder_state,\n",
    "                   target_sequence_length, max_target_sequence_length,\n",
    "                   rnn_size,\n",
    "                   num_layers, target_vocab_to_int, target_vocab_size,\n",
    "                   batch_size, keep_prob, decoding_embedding_size):\n",
    "    \"\"\"\n",
    "    Create decoding layer\n",
    "    :param dec_input: Decoder input\n",
    "    :param encoder_state: Encoder state\n",
    "    :param target_sequence_length: The lengths of each sequence in the target batch\n",
    "    :param max_target_sequence_length: Maximum length of target sequences\n",
    "    :param rnn_size: RNN Size\n",
    "    :param num_layers: Number of layers\n",
    "    :param target_vocab_to_int: Dictionary to go from the target words to an id\n",
    "    :param target_vocab_size: Size of target vocabulary\n",
    "    :param batch_size: The size of the batch\n",
    "    :param keep_prob: Dropout keep probability\n",
    "    :param decoding_embedding_size: Decoding embedding size\n",
    "    :return: Tuple of (Training BasicDecoderOutput, Inference BasicDecoderOutput)\n",
    "    \"\"\"\n",
    "    # First define the embeddings matrix with dimensions target_vocab_size and decoding_embedding_size for\n",
    "    #all its dimensions\n",
    "    dec_embeddings = tf.Variable(tf.random_uniform([target_vocab_size, decoding_embedding_size]))\n",
    "    #Second, define the embed input by using tf.nn.embedding_lookup with the embeddings matrix initialized above\n",
    "    dec_embed_input = tf.nn.embedding_lookup(dec_embeddings, dec_input)\n",
    "\n",
    "    #Second we create the RNN stack with LSTM cells w/ dropout\n",
    "    def make_cell(rnn_size):\n",
    "        lstm = tf.contrib.rnn.LSTMCell(rnn_size,initializer=tf.random_uniform_initializer(-0.1, 0.1))\n",
    "        dec_cell = tf.contrib.rnn.DropoutWrapper(lstm, output_keep_prob=keep_prob)\n",
    "        return dec_cell\n",
    "\n",
    "    dec_cell = tf.contrib.rnn.MultiRNNCell([make_cell(rnn_size) for _ in range(num_layers)])\n",
    "     \n",
    "    # 3. Dense layer to translate the decoder's output at each time \n",
    "    # step into a choice from the target vocabulary\n",
    "    output_layer = Dense(target_vocab_size,\n",
    "                         kernel_initializer = tf.truncated_normal_initializer(mean = 0.0, stddev=0.1))\n",
    "\n",
    "    with tf.variable_scope(\"decode\"):\n",
    "        training_decoder_output = decoding_layer_train(encoder_state, dec_cell, dec_embed_input, \n",
    "                         target_sequence_length, max_target_sequence_length, output_layer, keep_prob)\n",
    "\n",
    "        \n",
    "    with tf.variable_scope(\"decode\", reuse=True):\n",
    "        start_of_sequence_id = target_vocab_to_int['<GO>']\n",
    "        end_of_sequence_id = target_vocab_to_int['<EOS>']\n",
    "        inference_decoder_output = decoding_layer_infer(encoder_state, dec_cell, dec_embeddings, start_of_sequence_id,\n",
    "                         end_of_sequence_id, max_target_sequence_length, target_vocab_size, output_layer, batch_size, keep_prob)\n",
    "\n",
    "        \n",
    "    return training_decoder_output, inference_decoder_output\n",
    "\n",
    "\n",
    "\n",
    "\"\"\"\n",
    "DON'T MODIFY ANYTHING IN THIS CELL THAT IS BELOW THIS LINE\n",
    "\"\"\"\n",
    "tests.test_decoding_layer(decoding_layer)"
   ]
  },
  {
   "cell_type": "markdown",
   "metadata": {},
   "source": [
    "### Build the Neural Network\n",
    "Apply the functions you implemented above to:\n",
    "\n",
    "- Encode the input using your `encoding_layer(rnn_inputs, rnn_size, num_layers, keep_prob,  source_sequence_length, source_vocab_size, encoding_embedding_size)`.\n",
    "- Process target data using your `process_decoder_input(target_data, target_vocab_to_int, batch_size)` function.\n",
    "- Decode the encoded input using your `decoding_layer(dec_input, enc_state, target_sequence_length, max_target_sentence_length, rnn_size, num_layers, target_vocab_to_int, target_vocab_size, batch_size, keep_prob, dec_embedding_size)` function."
   ]
  },
  {
   "cell_type": "code",
   "execution_count": 14,
   "metadata": {},
   "outputs": [
    {
     "name": "stdout",
     "output_type": "stream",
     "text": [
      "Tests Passed\n"
     ]
    }
   ],
   "source": [
    "def seq2seq_model(input_data, target_data, keep_prob, batch_size,\n",
    "                  source_sequence_length, target_sequence_length,\n",
    "                  max_target_sentence_length,\n",
    "                  source_vocab_size, target_vocab_size,\n",
    "                  enc_embedding_size, dec_embedding_size,\n",
    "                  rnn_size, num_layers, target_vocab_to_int):\n",
    "    \"\"\"\n",
    "    Build the Sequence-to-Sequence part of the neural network\n",
    "    :param input_data: Input placeholder\n",
    "    :param target_data: Target placeholder\n",
    "    :param keep_prob: Dropout keep probability placeholder\n",
    "    :param batch_size: Batch Size\n",
    "    :param source_sequence_length: Sequence Lengths of source sequences in the batch\n",
    "    :param target_sequence_length: Sequence Lengths of target sequences in the batch\n",
    "    :param source_vocab_size: Source vocabulary size\n",
    "    :param target_vocab_size: Target vocabulary size\n",
    "    :param enc_embedding_size: Decoder embedding size\n",
    "    :param dec_embedding_size: Encoder embedding size\n",
    "    :param rnn_size: RNN Size\n",
    "    :param num_layers: Number of layers\n",
    "    :param target_vocab_to_int: Dictionary to go from the target words to an id\n",
    "    :return: Tuple of (Training BasicDecoderOutput, Inference BasicDecoderOutput)\n",
    "    \"\"\"\n",
    "    # First we will pass the input data through the encoder. From these outputs, we only care about the state\n",
    "    # to pass it foward to the decode layer. \n",
    "    _, encoder_state = encoding_layer(input_data, rnn_size, num_layers, keep_prob,\n",
    "                                      source_sequence_length, source_vocab_size, enc_embedding_size)\n",
    "    \n",
    "    #Second step is to preprocess the target sequences that we'll feed to the decoder while in training mode\n",
    "    decoder_input = process_decoder_input(target_data, target_vocab_to_int, batch_size)\n",
    "    \n",
    "    #Finally we can pass the encoder state and decoder inputs to the decoding layer\n",
    "    training_decoder_output, inference_decoder_output = decoding_layer(decoder_input, encoder_state,\n",
    "                                                                       target_sequence_length,\n",
    "                                                                       max_target_sentence_length,\n",
    "                                                                       rnn_size,\n",
    "                                                                       num_layers,\n",
    "                                                                       target_vocab_to_int,\n",
    "                                                                       target_vocab_size,\n",
    "                                                                       batch_size,\n",
    "                                                                       keep_prob,\n",
    "                                                                       dec_embedding_size)\n",
    "    \n",
    "    return training_decoder_output, inference_decoder_output\n",
    "\n",
    "\n",
    "\"\"\"\n",
    "DON'T MODIFY ANYTHING IN THIS CELL THAT IS BELOW THIS LINE\n",
    "\"\"\"\n",
    "tests.test_seq2seq_model(seq2seq_model)"
   ]
  },
  {
   "cell_type": "markdown",
   "metadata": {},
   "source": [
    "## Neural Network Training\n",
    "### Hyperparameters\n",
    "Tune the following parameters:\n",
    "\n",
    "- Set `epochs` to the number of epochs.\n",
    "- Set `batch_size` to the batch size.\n",
    "- Set `rnn_size` to the size of the RNNs.\n",
    "- Set `num_layers` to the number of layers.\n",
    "- Set `encoding_embedding_size` to the size of the embedding for the encoder.\n",
    "- Set `decoding_embedding_size` to the size of the embedding for the decoder.\n",
    "- Set `learning_rate` to the learning rate.\n",
    "- Set `keep_probability` to the Dropout keep probability\n",
    "- Set `display_step` to state how many steps between each debug output statement"
   ]
  },
  {
   "cell_type": "code",
   "execution_count": 15,
   "metadata": {
    "collapsed": true
   },
   "outputs": [],
   "source": [
    "# Number of Epochs\n",
    "epochs = 100\n",
    "# Batch Size\n",
    "batch_size = 128\n",
    "# RNN Size\n",
    "rnn_size = 128\n",
    "# Number of Layers\n",
    "num_layers = 1\n",
    "# Embedding Size\n",
    "encoding_embedding_size = 64\n",
    "decoding_embedding_size = 64\n",
    "# Learning Rate\n",
    "learning_rate = 0.001\n",
    "# Dropout Keep Probability\n",
    "keep_probability = 0.5\n",
    "display_step = 10"
   ]
  },
  {
   "cell_type": "markdown",
   "metadata": {},
   "source": [
    "### Build the Graph\n",
    "Build the graph using the neural network you implemented."
   ]
  },
  {
   "cell_type": "code",
   "execution_count": 16,
   "metadata": {
    "collapsed": true
   },
   "outputs": [],
   "source": [
    "\"\"\"\n",
    "DON'T MODIFY ANYTHING IN THIS CELL\n",
    "\"\"\"\n",
    "save_path = 'checkpoints/dev'\n",
    "(source_int_text, target_int_text), (source_vocab_to_int, target_vocab_to_int), _ = helper.load_preprocess()\n",
    "max_target_sentence_length = max([len(sentence) for sentence in source_int_text])\n",
    "\n",
    "train_graph = tf.Graph()\n",
    "with train_graph.as_default():\n",
    "    input_data, targets, lr, keep_prob, target_sequence_length, max_target_sequence_length, source_sequence_length = model_inputs()\n",
    "\n",
    "    #sequence_length = tf.placeholder_with_default(max_target_sentence_length, None, name='sequence_length')\n",
    "    input_shape = tf.shape(input_data)\n",
    "\n",
    "    train_logits, inference_logits = seq2seq_model(tf.reverse(input_data, [-1]),\n",
    "                                                   targets,\n",
    "                                                   keep_prob,\n",
    "                                                   batch_size,\n",
    "                                                   source_sequence_length,\n",
    "                                                   target_sequence_length,\n",
    "                                                   max_target_sequence_length,\n",
    "                                                   len(source_vocab_to_int),\n",
    "                                                   len(target_vocab_to_int),\n",
    "                                                   encoding_embedding_size,\n",
    "                                                   decoding_embedding_size,\n",
    "                                                   rnn_size,\n",
    "                                                   num_layers,\n",
    "                                                   target_vocab_to_int)\n",
    "\n",
    "\n",
    "    training_logits = tf.identity(train_logits.rnn_output, name='logits')\n",
    "    inference_logits = tf.identity(inference_logits.sample_id, name='predictions')\n",
    "\n",
    "    masks = tf.sequence_mask(target_sequence_length, max_target_sequence_length, dtype=tf.float32, name='masks')\n",
    "\n",
    "    with tf.name_scope(\"optimization\"):\n",
    "        # Loss function\n",
    "        cost = tf.contrib.seq2seq.sequence_loss(\n",
    "            training_logits,\n",
    "            targets,\n",
    "            masks)\n",
    "\n",
    "        # Optimizer\n",
    "        optimizer = tf.train.AdamOptimizer(lr)\n",
    "\n",
    "        # Gradient Clipping\n",
    "        gradients = optimizer.compute_gradients(cost)\n",
    "        capped_gradients = [(tf.clip_by_value(grad, -1., 1.), var) for grad, var in gradients if grad is not None]\n",
    "        train_op = optimizer.apply_gradients(capped_gradients)\n"
   ]
  },
  {
   "cell_type": "markdown",
   "metadata": {},
   "source": [
    "Batch and pad the source and target sequences"
   ]
  },
  {
   "cell_type": "code",
   "execution_count": 17,
   "metadata": {
    "collapsed": true
   },
   "outputs": [],
   "source": [
    "\"\"\"\n",
    "DON'T MODIFY ANYTHING IN THIS CELL\n",
    "\"\"\"\n",
    "def pad_sentence_batch(sentence_batch, pad_int):\n",
    "    \"\"\"Pad sentences with <PAD> so that each sentence of a batch has the same length\"\"\"\n",
    "    max_sentence = max([len(sentence) for sentence in sentence_batch])\n",
    "    return [sentence + [pad_int] * (max_sentence - len(sentence)) for sentence in sentence_batch]\n",
    "\n",
    "\n",
    "def get_batches(sources, targets, batch_size, source_pad_int, target_pad_int):\n",
    "    \"\"\"Batch targets, sources, and the lengths of their sentences together\"\"\"\n",
    "    for batch_i in range(0, len(sources)//batch_size):\n",
    "        start_i = batch_i * batch_size\n",
    "\n",
    "        # Slice the right amount for the batch\n",
    "        sources_batch = sources[start_i:start_i + batch_size]\n",
    "        targets_batch = targets[start_i:start_i + batch_size]\n",
    "\n",
    "        # Pad\n",
    "        pad_sources_batch = np.array(pad_sentence_batch(sources_batch, source_pad_int))\n",
    "        pad_targets_batch = np.array(pad_sentence_batch(targets_batch, target_pad_int))\n",
    "\n",
    "        # Need the lengths for the _lengths parameters\n",
    "        pad_targets_lengths = []\n",
    "        for target in pad_targets_batch:\n",
    "            pad_targets_lengths.append(len(target))\n",
    "\n",
    "        pad_source_lengths = []\n",
    "        for source in pad_sources_batch:\n",
    "            pad_source_lengths.append(len(source))\n",
    "\n",
    "        yield pad_sources_batch, pad_targets_batch, pad_source_lengths, pad_targets_lengths\n"
   ]
  },
  {
   "cell_type": "markdown",
   "metadata": {},
   "source": [
    "### Train\n",
    "Train the neural network on the preprocessed data. If you have a hard time getting a good loss, check the forms to see if anyone is having the same problem."
   ]
  },
  {
   "cell_type": "code",
   "execution_count": 18,
   "metadata": {
    "scrolled": true
   },
   "outputs": [
    {
     "name": "stdout",
     "output_type": "stream",
     "text": [
      "Epoch   0 Batch   10/1077 - Train Accuracy: 0.2027, Validation Accuracy: 0.3097, Loss: 4.7730\n",
      "Epoch   0 Batch   20/1077 - Train Accuracy: 0.2723, Validation Accuracy: 0.3398, Loss: 3.8878\n",
      "Epoch   0 Batch   30/1077 - Train Accuracy: 0.2965, Validation Accuracy: 0.3647, Loss: 3.4376\n",
      "Epoch   0 Batch   40/1077 - Train Accuracy: 0.3328, Validation Accuracy: 0.4006, Loss: 3.2162\n",
      "Epoch   0 Batch   50/1077 - Train Accuracy: 0.3613, Validation Accuracy: 0.4311, Loss: 3.0961\n",
      "Epoch   0 Batch   60/1077 - Train Accuracy: 0.4189, Validation Accuracy: 0.4513, Loss: 2.8387\n",
      "Epoch   0 Batch   70/1077 - Train Accuracy: 0.3475, Validation Accuracy: 0.4435, Loss: 2.9694\n",
      "Epoch   0 Batch   80/1077 - Train Accuracy: 0.3688, Validation Accuracy: 0.4357, Loss: 2.7032\n",
      "Epoch   0 Batch   90/1077 - Train Accuracy: 0.3574, Validation Accuracy: 0.4197, Loss: 2.7062\n",
      "Epoch   0 Batch  100/1077 - Train Accuracy: 0.3656, Validation Accuracy: 0.4311, Loss: 2.5882\n",
      "Epoch   0 Batch  110/1077 - Train Accuracy: 0.3773, Validation Accuracy: 0.4134, Loss: 2.4144\n",
      "Epoch   0 Batch  120/1077 - Train Accuracy: 0.3625, Validation Accuracy: 0.4148, Loss: 2.3977\n",
      "Epoch   0 Batch  130/1077 - Train Accuracy: 0.3783, Validation Accuracy: 0.4268, Loss: 2.1713\n",
      "Epoch   0 Batch  140/1077 - Train Accuracy: 0.3166, Validation Accuracy: 0.4169, Loss: 2.3539\n",
      "Epoch   0 Batch  150/1077 - Train Accuracy: 0.4051, Validation Accuracy: 0.4350, Loss: 2.0151\n",
      "Epoch   0 Batch  160/1077 - Train Accuracy: 0.3906, Validation Accuracy: 0.4442, Loss: 2.0057\n",
      "Epoch   0 Batch  170/1077 - Train Accuracy: 0.3742, Validation Accuracy: 0.4613, Loss: 2.0288\n",
      "Epoch   0 Batch  180/1077 - Train Accuracy: 0.3984, Validation Accuracy: 0.4432, Loss: 1.8822\n",
      "Epoch   0 Batch  190/1077 - Train Accuracy: 0.4137, Validation Accuracy: 0.4595, Loss: 1.8423\n",
      "Epoch   0 Batch  200/1077 - Train Accuracy: 0.3969, Validation Accuracy: 0.4471, Loss: 1.7525\n",
      "Epoch   0 Batch  210/1077 - Train Accuracy: 0.4089, Validation Accuracy: 0.4545, Loss: 1.6908\n",
      "Epoch   0 Batch  220/1077 - Train Accuracy: 0.3902, Validation Accuracy: 0.4549, Loss: 1.6820\n",
      "Epoch   0 Batch  230/1077 - Train Accuracy: 0.4583, Validation Accuracy: 0.4673, Loss: 1.4909\n",
      "Epoch   0 Batch  240/1077 - Train Accuracy: 0.4469, Validation Accuracy: 0.4680, Loss: 1.5070\n",
      "Epoch   0 Batch  250/1077 - Train Accuracy: 0.4542, Validation Accuracy: 0.4673, Loss: 1.3770\n",
      "Epoch   0 Batch  260/1077 - Train Accuracy: 0.4382, Validation Accuracy: 0.4659, Loss: 1.3619\n",
      "Epoch   0 Batch  270/1077 - Train Accuracy: 0.3867, Validation Accuracy: 0.4712, Loss: 1.4878\n",
      "Epoch   0 Batch  280/1077 - Train Accuracy: 0.4379, Validation Accuracy: 0.4680, Loss: 1.3756\n",
      "Epoch   0 Batch  290/1077 - Train Accuracy: 0.4402, Validation Accuracy: 0.4762, Loss: 1.3706\n",
      "Epoch   0 Batch  300/1077 - Train Accuracy: 0.4293, Validation Accuracy: 0.5018, Loss: 1.3749\n",
      "Epoch   0 Batch  310/1077 - Train Accuracy: 0.4391, Validation Accuracy: 0.4989, Loss: 1.2666\n",
      "Epoch   0 Batch  320/1077 - Train Accuracy: 0.4977, Validation Accuracy: 0.5277, Loss: 1.2763\n",
      "Epoch   0 Batch  330/1077 - Train Accuracy: 0.5145, Validation Accuracy: 0.5323, Loss: 1.2263\n",
      "Epoch   0 Batch  340/1077 - Train Accuracy: 0.4601, Validation Accuracy: 0.5341, Loss: 1.2339\n",
      "Epoch   0 Batch  350/1077 - Train Accuracy: 0.4648, Validation Accuracy: 0.5490, Loss: 1.2464\n",
      "Epoch   0 Batch  360/1077 - Train Accuracy: 0.5102, Validation Accuracy: 0.5568, Loss: 1.1288\n",
      "Epoch   0 Batch  370/1077 - Train Accuracy: 0.5260, Validation Accuracy: 0.5607, Loss: 1.0646\n",
      "Epoch   0 Batch  380/1077 - Train Accuracy: 0.5266, Validation Accuracy: 0.5621, Loss: 1.0740\n",
      "Epoch   0 Batch  390/1077 - Train Accuracy: 0.4703, Validation Accuracy: 0.5447, Loss: 1.1272\n",
      "Epoch   0 Batch  400/1077 - Train Accuracy: 0.5051, Validation Accuracy: 0.5472, Loss: 1.0548\n",
      "Epoch   0 Batch  410/1077 - Train Accuracy: 0.4782, Validation Accuracy: 0.5597, Loss: 1.0996\n",
      "Epoch   0 Batch  420/1077 - Train Accuracy: 0.4844, Validation Accuracy: 0.5334, Loss: 1.0219\n",
      "Epoch   0 Batch  430/1077 - Train Accuracy: 0.4984, Validation Accuracy: 0.5536, Loss: 1.0151\n",
      "Epoch   0 Batch  440/1077 - Train Accuracy: 0.5309, Validation Accuracy: 0.5518, Loss: 1.0260\n",
      "Epoch   0 Batch  450/1077 - Train Accuracy: 0.5219, Validation Accuracy: 0.5494, Loss: 1.0038\n",
      "Epoch   0 Batch  460/1077 - Train Accuracy: 0.4738, Validation Accuracy: 0.5451, Loss: 0.9913\n",
      "Epoch   0 Batch  470/1077 - Train Accuracy: 0.4856, Validation Accuracy: 0.5600, Loss: 1.0036\n",
      "Epoch   0 Batch  480/1077 - Train Accuracy: 0.5275, Validation Accuracy: 0.5668, Loss: 0.9605\n",
      "Epoch   0 Batch  490/1077 - Train Accuracy: 0.5145, Validation Accuracy: 0.5668, Loss: 0.9472\n",
      "Epoch   0 Batch  500/1077 - Train Accuracy: 0.5410, Validation Accuracy: 0.5707, Loss: 0.9068\n",
      "Epoch   0 Batch  510/1077 - Train Accuracy: 0.5570, Validation Accuracy: 0.5827, Loss: 0.9188\n",
      "Epoch   0 Batch  520/1077 - Train Accuracy: 0.5655, Validation Accuracy: 0.5845, Loss: 0.8790\n",
      "Epoch   0 Batch  530/1077 - Train Accuracy: 0.5465, Validation Accuracy: 0.5817, Loss: 0.9047\n",
      "Epoch   0 Batch  540/1077 - Train Accuracy: 0.5348, Validation Accuracy: 0.5852, Loss: 0.8568\n",
      "Epoch   0 Batch  550/1077 - Train Accuracy: 0.5215, Validation Accuracy: 0.5792, Loss: 0.9058\n",
      "Epoch   0 Batch  560/1077 - Train Accuracy: 0.5262, Validation Accuracy: 0.5792, Loss: 0.8523\n",
      "Epoch   0 Batch  570/1077 - Train Accuracy: 0.5432, Validation Accuracy: 0.5732, Loss: 0.8771\n",
      "Epoch   0 Batch  580/1077 - Train Accuracy: 0.5941, Validation Accuracy: 0.5788, Loss: 0.7710\n",
      "Epoch   0 Batch  590/1077 - Train Accuracy: 0.5506, Validation Accuracy: 0.5824, Loss: 0.8713\n",
      "Epoch   0 Batch  600/1077 - Train Accuracy: 0.5904, Validation Accuracy: 0.5948, Loss: 0.7776\n",
      "Epoch   0 Batch  610/1077 - Train Accuracy: 0.5567, Validation Accuracy: 0.5884, Loss: 0.8704\n",
      "Epoch   0 Batch  620/1077 - Train Accuracy: 0.5609, Validation Accuracy: 0.5902, Loss: 0.8228\n",
      "Epoch   0 Batch  630/1077 - Train Accuracy: 0.5609, Validation Accuracy: 0.6037, Loss: 0.7967\n",
      "Epoch   0 Batch  640/1077 - Train Accuracy: 0.5599, Validation Accuracy: 0.6069, Loss: 0.7774\n",
      "Epoch   0 Batch  650/1077 - Train Accuracy: 0.5621, Validation Accuracy: 0.6019, Loss: 0.8066\n",
      "Epoch   0 Batch  660/1077 - Train Accuracy: 0.5684, Validation Accuracy: 0.5980, Loss: 0.8082\n",
      "Epoch   0 Batch  670/1077 - Train Accuracy: 0.6357, Validation Accuracy: 0.6090, Loss: 0.7180\n",
      "Epoch   0 Batch  680/1077 - Train Accuracy: 0.5833, Validation Accuracy: 0.5969, Loss: 0.7569\n",
      "Epoch   0 Batch  690/1077 - Train Accuracy: 0.6148, Validation Accuracy: 0.5966, Loss: 0.7833\n",
      "Epoch   0 Batch  700/1077 - Train Accuracy: 0.5707, Validation Accuracy: 0.5898, Loss: 0.7514\n",
      "Epoch   0 Batch  710/1077 - Train Accuracy: 0.5445, Validation Accuracy: 0.6005, Loss: 0.7641\n",
      "Epoch   0 Batch  720/1077 - Train Accuracy: 0.5859, Validation Accuracy: 0.5930, Loss: 0.8179\n",
      "Epoch   0 Batch  730/1077 - Train Accuracy: 0.5742, Validation Accuracy: 0.5898, Loss: 0.7608\n",
      "Epoch   0 Batch  740/1077 - Train Accuracy: 0.5957, Validation Accuracy: 0.6044, Loss: 0.7374\n",
      "Epoch   0 Batch  750/1077 - Train Accuracy: 0.5840, Validation Accuracy: 0.5991, Loss: 0.7240\n",
      "Epoch   0 Batch  760/1077 - Train Accuracy: 0.5988, Validation Accuracy: 0.5909, Loss: 0.7409\n",
      "Epoch   0 Batch  770/1077 - Train Accuracy: 0.6142, Validation Accuracy: 0.6037, Loss: 0.7064\n",
      "Epoch   0 Batch  780/1077 - Train Accuracy: 0.6031, Validation Accuracy: 0.6179, Loss: 0.7542\n",
      "Epoch   0 Batch  790/1077 - Train Accuracy: 0.5480, Validation Accuracy: 0.6062, Loss: 0.7582\n",
      "Epoch   0 Batch  800/1077 - Train Accuracy: 0.5777, Validation Accuracy: 0.6058, Loss: 0.7190\n",
      "Epoch   0 Batch  810/1077 - Train Accuracy: 0.6131, Validation Accuracy: 0.6151, Loss: 0.6882\n",
      "Epoch   0 Batch  820/1077 - Train Accuracy: 0.5832, Validation Accuracy: 0.6193, Loss: 0.7442\n",
      "Epoch   0 Batch  830/1077 - Train Accuracy: 0.6070, Validation Accuracy: 0.6236, Loss: 0.6955\n",
      "Epoch   0 Batch  840/1077 - Train Accuracy: 0.6047, Validation Accuracy: 0.6119, Loss: 0.6840\n",
      "Epoch   0 Batch  850/1077 - Train Accuracy: 0.6019, Validation Accuracy: 0.6250, Loss: 0.7313\n",
      "Epoch   0 Batch  860/1077 - Train Accuracy: 0.6120, Validation Accuracy: 0.6122, Loss: 0.6745\n",
      "Epoch   0 Batch  870/1077 - Train Accuracy: 0.5687, Validation Accuracy: 0.6090, Loss: 0.7625\n",
      "Epoch   0 Batch  880/1077 - Train Accuracy: 0.6258, Validation Accuracy: 0.6243, Loss: 0.6929\n"
     ]
    },
    {
     "name": "stdout",
     "output_type": "stream",
     "text": [
      "Epoch   0 Batch  890/1077 - Train Accuracy: 0.6778, Validation Accuracy: 0.6158, Loss: 0.6573\n",
      "Epoch   0 Batch  900/1077 - Train Accuracy: 0.6062, Validation Accuracy: 0.6200, Loss: 0.7051\n",
      "Epoch   0 Batch  910/1077 - Train Accuracy: 0.6094, Validation Accuracy: 0.6335, Loss: 0.6772\n",
      "Epoch   0 Batch  920/1077 - Train Accuracy: 0.5945, Validation Accuracy: 0.5998, Loss: 0.6832\n",
      "Epoch   0 Batch  930/1077 - Train Accuracy: 0.6301, Validation Accuracy: 0.6261, Loss: 0.6589\n",
      "Epoch   0 Batch  940/1077 - Train Accuracy: 0.5934, Validation Accuracy: 0.6289, Loss: 0.6764\n",
      "Epoch   0 Batch  950/1077 - Train Accuracy: 0.5971, Validation Accuracy: 0.6168, Loss: 0.6345\n",
      "Epoch   0 Batch  960/1077 - Train Accuracy: 0.6272, Validation Accuracy: 0.6104, Loss: 0.6372\n",
      "Epoch   0 Batch  970/1077 - Train Accuracy: 0.6418, Validation Accuracy: 0.6399, Loss: 0.6827\n",
      "Epoch   0 Batch  980/1077 - Train Accuracy: 0.6199, Validation Accuracy: 0.6282, Loss: 0.6459\n",
      "Epoch   0 Batch  990/1077 - Train Accuracy: 0.5962, Validation Accuracy: 0.6378, Loss: 0.6938\n",
      "Epoch   0 Batch 1000/1077 - Train Accuracy: 0.6696, Validation Accuracy: 0.6357, Loss: 0.6017\n",
      "Epoch   0 Batch 1010/1077 - Train Accuracy: 0.6277, Validation Accuracy: 0.6353, Loss: 0.6465\n",
      "Epoch   0 Batch 1020/1077 - Train Accuracy: 0.6125, Validation Accuracy: 0.6257, Loss: 0.6272\n",
      "Epoch   0 Batch 1030/1077 - Train Accuracy: 0.6070, Validation Accuracy: 0.6172, Loss: 0.6345\n",
      "Epoch   0 Batch 1040/1077 - Train Accuracy: 0.6118, Validation Accuracy: 0.6257, Loss: 0.6571\n",
      "Epoch   0 Batch 1050/1077 - Train Accuracy: 0.5672, Validation Accuracy: 0.6183, Loss: 0.6493\n",
      "Epoch   0 Batch 1060/1077 - Train Accuracy: 0.6180, Validation Accuracy: 0.6357, Loss: 0.6190\n",
      "Epoch   0 Batch 1070/1077 - Train Accuracy: 0.5949, Validation Accuracy: 0.6388, Loss: 0.6544\n",
      "Epoch   1 Batch   10/1077 - Train Accuracy: 0.6291, Validation Accuracy: 0.6349, Loss: 0.6456\n",
      "Epoch   1 Batch   20/1077 - Train Accuracy: 0.5914, Validation Accuracy: 0.6325, Loss: 0.6008\n",
      "Epoch   1 Batch   30/1077 - Train Accuracy: 0.6281, Validation Accuracy: 0.6410, Loss: 0.6096\n",
      "Epoch   1 Batch   40/1077 - Train Accuracy: 0.6195, Validation Accuracy: 0.6286, Loss: 0.6211\n",
      "Epoch   1 Batch   50/1077 - Train Accuracy: 0.5996, Validation Accuracy: 0.6293, Loss: 0.6205\n",
      "Epoch   1 Batch   60/1077 - Train Accuracy: 0.6283, Validation Accuracy: 0.6381, Loss: 0.5768\n",
      "Epoch   1 Batch   70/1077 - Train Accuracy: 0.6234, Validation Accuracy: 0.6456, Loss: 0.6169\n",
      "Epoch   1 Batch   80/1077 - Train Accuracy: 0.6516, Validation Accuracy: 0.6477, Loss: 0.5920\n",
      "Epoch   1 Batch   90/1077 - Train Accuracy: 0.6512, Validation Accuracy: 0.6445, Loss: 0.6155\n",
      "Epoch   1 Batch  100/1077 - Train Accuracy: 0.6426, Validation Accuracy: 0.6403, Loss: 0.6103\n",
      "Epoch   1 Batch  110/1077 - Train Accuracy: 0.6840, Validation Accuracy: 0.6410, Loss: 0.5602\n",
      "Epoch   1 Batch  120/1077 - Train Accuracy: 0.6633, Validation Accuracy: 0.6438, Loss: 0.6034\n",
      "Epoch   1 Batch  130/1077 - Train Accuracy: 0.6447, Validation Accuracy: 0.6470, Loss: 0.5458\n",
      "Epoch   1 Batch  140/1077 - Train Accuracy: 0.6303, Validation Accuracy: 0.6445, Loss: 0.6070\n",
      "Epoch   1 Batch  150/1077 - Train Accuracy: 0.6663, Validation Accuracy: 0.6495, Loss: 0.5568\n",
      "Epoch   1 Batch  160/1077 - Train Accuracy: 0.6848, Validation Accuracy: 0.6538, Loss: 0.5646\n",
      "Epoch   1 Batch  170/1077 - Train Accuracy: 0.6059, Validation Accuracy: 0.6474, Loss: 0.5979\n",
      "Epoch   1 Batch  180/1077 - Train Accuracy: 0.6320, Validation Accuracy: 0.6477, Loss: 0.5856\n",
      "Epoch   1 Batch  190/1077 - Train Accuracy: 0.6816, Validation Accuracy: 0.6484, Loss: 0.5583\n",
      "Epoch   1 Batch  200/1077 - Train Accuracy: 0.6387, Validation Accuracy: 0.6531, Loss: 0.5831\n",
      "Epoch   1 Batch  210/1077 - Train Accuracy: 0.6715, Validation Accuracy: 0.6488, Loss: 0.5507\n",
      "Epoch   1 Batch  220/1077 - Train Accuracy: 0.6517, Validation Accuracy: 0.6516, Loss: 0.5776\n",
      "Epoch   1 Batch  230/1077 - Train Accuracy: 0.6518, Validation Accuracy: 0.6605, Loss: 0.5523\n",
      "Epoch   1 Batch  240/1077 - Train Accuracy: 0.6793, Validation Accuracy: 0.6470, Loss: 0.5392\n",
      "Epoch   1 Batch  250/1077 - Train Accuracy: 0.6470, Validation Accuracy: 0.6573, Loss: 0.5279\n",
      "Epoch   1 Batch  260/1077 - Train Accuracy: 0.6752, Validation Accuracy: 0.6438, Loss: 0.5225\n",
      "Epoch   1 Batch  270/1077 - Train Accuracy: 0.6207, Validation Accuracy: 0.6513, Loss: 0.5609\n",
      "Epoch   1 Batch  280/1077 - Train Accuracy: 0.6668, Validation Accuracy: 0.6641, Loss: 0.5523\n",
      "Epoch   1 Batch  290/1077 - Train Accuracy: 0.6461, Validation Accuracy: 0.6513, Loss: 0.5740\n",
      "Epoch   1 Batch  300/1077 - Train Accuracy: 0.6735, Validation Accuracy: 0.6591, Loss: 0.5668\n",
      "Epoch   1 Batch  310/1077 - Train Accuracy: 0.6387, Validation Accuracy: 0.6460, Loss: 0.5508\n",
      "Epoch   1 Batch  320/1077 - Train Accuracy: 0.6762, Validation Accuracy: 0.6499, Loss: 0.5362\n",
      "Epoch   1 Batch  330/1077 - Train Accuracy: 0.7105, Validation Accuracy: 0.6587, Loss: 0.5230\n",
      "Epoch   1 Batch  340/1077 - Train Accuracy: 0.6591, Validation Accuracy: 0.6598, Loss: 0.5341\n",
      "Epoch   1 Batch  350/1077 - Train Accuracy: 0.6336, Validation Accuracy: 0.6673, Loss: 0.5450\n",
      "Epoch   1 Batch  360/1077 - Train Accuracy: 0.6801, Validation Accuracy: 0.6605, Loss: 0.5245\n",
      "Epoch   1 Batch  370/1077 - Train Accuracy: 0.6585, Validation Accuracy: 0.6552, Loss: 0.4939\n",
      "Epoch   1 Batch  380/1077 - Train Accuracy: 0.6777, Validation Accuracy: 0.6587, Loss: 0.5144\n",
      "Epoch   1 Batch  390/1077 - Train Accuracy: 0.6527, Validation Accuracy: 0.6527, Loss: 0.5251\n",
      "Epoch   1 Batch  400/1077 - Train Accuracy: 0.6738, Validation Accuracy: 0.6619, Loss: 0.5122\n",
      "Epoch   1 Batch  410/1077 - Train Accuracy: 0.6785, Validation Accuracy: 0.6609, Loss: 0.5185\n",
      "Epoch   1 Batch  420/1077 - Train Accuracy: 0.6867, Validation Accuracy: 0.6655, Loss: 0.4794\n",
      "Epoch   1 Batch  430/1077 - Train Accuracy: 0.6598, Validation Accuracy: 0.6616, Loss: 0.4936\n",
      "Epoch   1 Batch  440/1077 - Train Accuracy: 0.6566, Validation Accuracy: 0.6761, Loss: 0.5187\n",
      "Epoch   1 Batch  450/1077 - Train Accuracy: 0.6676, Validation Accuracy: 0.6630, Loss: 0.4801\n",
      "Epoch   1 Batch  460/1077 - Train Accuracy: 0.6742, Validation Accuracy: 0.6605, Loss: 0.5126\n",
      "Epoch   1 Batch  470/1077 - Train Accuracy: 0.6780, Validation Accuracy: 0.6491, Loss: 0.5140\n",
      "Epoch   1 Batch  480/1077 - Train Accuracy: 0.6904, Validation Accuracy: 0.6598, Loss: 0.4897\n",
      "Epoch   1 Batch  490/1077 - Train Accuracy: 0.6570, Validation Accuracy: 0.6605, Loss: 0.4928\n",
      "Epoch   1 Batch  500/1077 - Train Accuracy: 0.6656, Validation Accuracy: 0.6566, Loss: 0.4819\n",
      "Epoch   1 Batch  510/1077 - Train Accuracy: 0.6738, Validation Accuracy: 0.6747, Loss: 0.4750\n",
      "Epoch   1 Batch  520/1077 - Train Accuracy: 0.7188, Validation Accuracy: 0.6545, Loss: 0.4426\n",
      "Epoch   1 Batch  530/1077 - Train Accuracy: 0.6758, Validation Accuracy: 0.6506, Loss: 0.4916\n",
      "Epoch   1 Batch  540/1077 - Train Accuracy: 0.6738, Validation Accuracy: 0.6460, Loss: 0.4413\n",
      "Epoch   1 Batch  550/1077 - Train Accuracy: 0.6910, Validation Accuracy: 0.6641, Loss: 0.5019\n",
      "Epoch   1 Batch  560/1077 - Train Accuracy: 0.7055, Validation Accuracy: 0.6669, Loss: 0.4599\n",
      "Epoch   1 Batch  570/1077 - Train Accuracy: 0.6846, Validation Accuracy: 0.6467, Loss: 0.4953\n",
      "Epoch   1 Batch  580/1077 - Train Accuracy: 0.7240, Validation Accuracy: 0.6548, Loss: 0.4291\n",
      "Epoch   1 Batch  590/1077 - Train Accuracy: 0.6501, Validation Accuracy: 0.6520, Loss: 0.4992\n",
      "Epoch   1 Batch  600/1077 - Train Accuracy: 0.7001, Validation Accuracy: 0.6719, Loss: 0.4385\n",
      "Epoch   1 Batch  610/1077 - Train Accuracy: 0.6649, Validation Accuracy: 0.6570, Loss: 0.4913\n",
      "Epoch   1 Batch  620/1077 - Train Accuracy: 0.6957, Validation Accuracy: 0.6751, Loss: 0.4371\n",
      "Epoch   1 Batch  630/1077 - Train Accuracy: 0.6508, Validation Accuracy: 0.6452, Loss: 0.4500\n",
      "Epoch   1 Batch  640/1077 - Train Accuracy: 0.7098, Validation Accuracy: 0.6772, Loss: 0.4308\n",
      "Epoch   1 Batch  650/1077 - Train Accuracy: 0.6687, Validation Accuracy: 0.6630, Loss: 0.4611\n",
      "Epoch   1 Batch  660/1077 - Train Accuracy: 0.7277, Validation Accuracy: 0.6548, Loss: 0.4557\n",
      "Epoch   1 Batch  670/1077 - Train Accuracy: 0.7461, Validation Accuracy: 0.6523, Loss: 0.4294\n",
      "Epoch   1 Batch  680/1077 - Train Accuracy: 0.7035, Validation Accuracy: 0.6669, Loss: 0.4254\n",
      "Epoch   1 Batch  690/1077 - Train Accuracy: 0.7477, Validation Accuracy: 0.6808, Loss: 0.4444\n"
     ]
    },
    {
     "name": "stdout",
     "output_type": "stream",
     "text": [
      "Epoch   1 Batch  700/1077 - Train Accuracy: 0.7105, Validation Accuracy: 0.6882, Loss: 0.4164\n",
      "Epoch   1 Batch  710/1077 - Train Accuracy: 0.6652, Validation Accuracy: 0.6722, Loss: 0.4287\n",
      "Epoch   1 Batch  720/1077 - Train Accuracy: 0.7105, Validation Accuracy: 0.6747, Loss: 0.4732\n",
      "Epoch   1 Batch  730/1077 - Train Accuracy: 0.7215, Validation Accuracy: 0.6786, Loss: 0.4372\n",
      "Epoch   1 Batch  740/1077 - Train Accuracy: 0.7348, Validation Accuracy: 0.6797, Loss: 0.4154\n",
      "Epoch   1 Batch  750/1077 - Train Accuracy: 0.7027, Validation Accuracy: 0.6882, Loss: 0.4163\n",
      "Epoch   1 Batch  760/1077 - Train Accuracy: 0.7047, Validation Accuracy: 0.6683, Loss: 0.4288\n",
      "Epoch   1 Batch  770/1077 - Train Accuracy: 0.7266, Validation Accuracy: 0.6914, Loss: 0.3943\n",
      "Epoch   1 Batch  780/1077 - Train Accuracy: 0.7004, Validation Accuracy: 0.6896, Loss: 0.4276\n",
      "Epoch   1 Batch  790/1077 - Train Accuracy: 0.6719, Validation Accuracy: 0.6729, Loss: 0.4569\n",
      "Epoch   1 Batch  800/1077 - Train Accuracy: 0.7145, Validation Accuracy: 0.6864, Loss: 0.4204\n",
      "Epoch   1 Batch  810/1077 - Train Accuracy: 0.7429, Validation Accuracy: 0.6985, Loss: 0.3784\n",
      "Epoch   1 Batch  820/1077 - Train Accuracy: 0.7238, Validation Accuracy: 0.6999, Loss: 0.4261\n",
      "Epoch   1 Batch  830/1077 - Train Accuracy: 0.6652, Validation Accuracy: 0.6818, Loss: 0.3949\n",
      "Epoch   1 Batch  840/1077 - Train Accuracy: 0.7520, Validation Accuracy: 0.7042, Loss: 0.3933\n",
      "Epoch   1 Batch  850/1077 - Train Accuracy: 0.6875, Validation Accuracy: 0.6935, Loss: 0.4164\n",
      "Epoch   1 Batch  860/1077 - Train Accuracy: 0.7217, Validation Accuracy: 0.7042, Loss: 0.3815\n",
      "Epoch   1 Batch  870/1077 - Train Accuracy: 0.6846, Validation Accuracy: 0.6875, Loss: 0.4192\n",
      "Epoch   1 Batch  880/1077 - Train Accuracy: 0.7543, Validation Accuracy: 0.7063, Loss: 0.3834\n",
      "Epoch   1 Batch  890/1077 - Train Accuracy: 0.7824, Validation Accuracy: 0.6864, Loss: 0.3745\n",
      "Epoch   1 Batch  900/1077 - Train Accuracy: 0.7570, Validation Accuracy: 0.7152, Loss: 0.4011\n",
      "Epoch   1 Batch  910/1077 - Train Accuracy: 0.7548, Validation Accuracy: 0.7010, Loss: 0.3682\n",
      "Epoch   1 Batch  920/1077 - Train Accuracy: 0.7191, Validation Accuracy: 0.7195, Loss: 0.3959\n",
      "Epoch   1 Batch  930/1077 - Train Accuracy: 0.7527, Validation Accuracy: 0.7308, Loss: 0.3674\n",
      "Epoch   1 Batch  940/1077 - Train Accuracy: 0.7445, Validation Accuracy: 0.7088, Loss: 0.4032\n",
      "Epoch   1 Batch  950/1077 - Train Accuracy: 0.7370, Validation Accuracy: 0.7074, Loss: 0.3725\n",
      "Epoch   1 Batch  960/1077 - Train Accuracy: 0.7656, Validation Accuracy: 0.7156, Loss: 0.3637\n",
      "Epoch   1 Batch  970/1077 - Train Accuracy: 0.7797, Validation Accuracy: 0.7077, Loss: 0.3914\n",
      "Epoch   1 Batch  980/1077 - Train Accuracy: 0.7109, Validation Accuracy: 0.7219, Loss: 0.3835\n",
      "Epoch   1 Batch  990/1077 - Train Accuracy: 0.7377, Validation Accuracy: 0.7319, Loss: 0.3942\n",
      "Epoch   1 Batch 1000/1077 - Train Accuracy: 0.7705, Validation Accuracy: 0.7447, Loss: 0.3403\n",
      "Epoch   1 Batch 1010/1077 - Train Accuracy: 0.7797, Validation Accuracy: 0.7450, Loss: 0.3553\n",
      "Epoch   1 Batch 1020/1077 - Train Accuracy: 0.7727, Validation Accuracy: 0.7227, Loss: 0.3500\n",
      "Epoch   1 Batch 1030/1077 - Train Accuracy: 0.7797, Validation Accuracy: 0.7216, Loss: 0.3726\n",
      "Epoch   1 Batch 1040/1077 - Train Accuracy: 0.7558, Validation Accuracy: 0.7241, Loss: 0.3861\n",
      "Epoch   1 Batch 1050/1077 - Train Accuracy: 0.7129, Validation Accuracy: 0.7312, Loss: 0.3670\n",
      "Epoch   1 Batch 1060/1077 - Train Accuracy: 0.7699, Validation Accuracy: 0.7433, Loss: 0.3449\n",
      "Epoch   1 Batch 1070/1077 - Train Accuracy: 0.7094, Validation Accuracy: 0.7479, Loss: 0.3702\n",
      "Epoch   2 Batch   10/1077 - Train Accuracy: 0.7952, Validation Accuracy: 0.7376, Loss: 0.3610\n",
      "Epoch   2 Batch   20/1077 - Train Accuracy: 0.7625, Validation Accuracy: 0.7390, Loss: 0.3375\n",
      "Epoch   2 Batch   30/1077 - Train Accuracy: 0.7961, Validation Accuracy: 0.7425, Loss: 0.3419\n",
      "Epoch   2 Batch   40/1077 - Train Accuracy: 0.7937, Validation Accuracy: 0.7557, Loss: 0.3433\n",
      "Epoch   2 Batch   50/1077 - Train Accuracy: 0.8113, Validation Accuracy: 0.7393, Loss: 0.3521\n",
      "Epoch   2 Batch   60/1077 - Train Accuracy: 0.7775, Validation Accuracy: 0.7429, Loss: 0.3223\n",
      "Epoch   2 Batch   70/1077 - Train Accuracy: 0.7525, Validation Accuracy: 0.7607, Loss: 0.3538\n",
      "Epoch   2 Batch   80/1077 - Train Accuracy: 0.7930, Validation Accuracy: 0.7479, Loss: 0.3323\n",
      "Epoch   2 Batch   90/1077 - Train Accuracy: 0.7812, Validation Accuracy: 0.7589, Loss: 0.3455\n",
      "Epoch   2 Batch  100/1077 - Train Accuracy: 0.7711, Validation Accuracy: 0.7450, Loss: 0.3416\n",
      "Epoch   2 Batch  110/1077 - Train Accuracy: 0.7867, Validation Accuracy: 0.7638, Loss: 0.3081\n",
      "Epoch   2 Batch  120/1077 - Train Accuracy: 0.8199, Validation Accuracy: 0.7660, Loss: 0.3452\n",
      "Epoch   2 Batch  130/1077 - Train Accuracy: 0.7972, Validation Accuracy: 0.7514, Loss: 0.2998\n",
      "Epoch   2 Batch  140/1077 - Train Accuracy: 0.7829, Validation Accuracy: 0.7646, Loss: 0.3303\n",
      "Epoch   2 Batch  150/1077 - Train Accuracy: 0.8125, Validation Accuracy: 0.7702, Loss: 0.3088\n",
      "Epoch   2 Batch  160/1077 - Train Accuracy: 0.8176, Validation Accuracy: 0.7820, Loss: 0.3072\n",
      "Epoch   2 Batch  170/1077 - Train Accuracy: 0.7988, Validation Accuracy: 0.7660, Loss: 0.3329\n",
      "Epoch   2 Batch  180/1077 - Train Accuracy: 0.7906, Validation Accuracy: 0.7720, Loss: 0.3013\n",
      "Epoch   2 Batch  190/1077 - Train Accuracy: 0.7965, Validation Accuracy: 0.7884, Loss: 0.3092\n",
      "Epoch   2 Batch  200/1077 - Train Accuracy: 0.7879, Validation Accuracy: 0.7649, Loss: 0.3402\n",
      "Epoch   2 Batch  210/1077 - Train Accuracy: 0.8032, Validation Accuracy: 0.7628, Loss: 0.3229\n",
      "Epoch   2 Batch  220/1077 - Train Accuracy: 0.8174, Validation Accuracy: 0.7798, Loss: 0.3026\n",
      "Epoch   2 Batch  230/1077 - Train Accuracy: 0.8039, Validation Accuracy: 0.7738, Loss: 0.3033\n",
      "Epoch   2 Batch  240/1077 - Train Accuracy: 0.8160, Validation Accuracy: 0.7908, Loss: 0.2985\n",
      "Epoch   2 Batch  250/1077 - Train Accuracy: 0.8111, Validation Accuracy: 0.7830, Loss: 0.2831\n",
      "Epoch   2 Batch  260/1077 - Train Accuracy: 0.8092, Validation Accuracy: 0.7557, Loss: 0.2742\n",
      "Epoch   2 Batch  270/1077 - Train Accuracy: 0.7613, Validation Accuracy: 0.7773, Loss: 0.3126\n",
      "Epoch   2 Batch  280/1077 - Train Accuracy: 0.7656, Validation Accuracy: 0.7951, Loss: 0.3135\n",
      "Epoch   2 Batch  290/1077 - Train Accuracy: 0.8020, Validation Accuracy: 0.7969, Loss: 0.3172\n",
      "Epoch   2 Batch  300/1077 - Train Accuracy: 0.8158, Validation Accuracy: 0.7926, Loss: 0.3017\n",
      "Epoch   2 Batch  310/1077 - Train Accuracy: 0.8059, Validation Accuracy: 0.7958, Loss: 0.3098\n",
      "Epoch   2 Batch  320/1077 - Train Accuracy: 0.8133, Validation Accuracy: 0.7855, Loss: 0.3031\n",
      "Epoch   2 Batch  330/1077 - Train Accuracy: 0.7988, Validation Accuracy: 0.8065, Loss: 0.2976\n",
      "Epoch   2 Batch  340/1077 - Train Accuracy: 0.8310, Validation Accuracy: 0.7827, Loss: 0.2840\n"
     ]
    },
    {
     "ename": "KeyboardInterrupt",
     "evalue": "",
     "output_type": "error",
     "traceback": [
      "\u001b[0;31m---------------------------------------------------------------------------\u001b[0m",
      "\u001b[0;31mKeyboardInterrupt\u001b[0m                         Traceback (most recent call last)",
      "\u001b[0;32m<ipython-input-18-8b554ffa681f>\u001b[0m in \u001b[0;36m<module>\u001b[0;34m()\u001b[0m\n\u001b[1;32m     46\u001b[0m                  \u001b[0mtarget_sequence_length\u001b[0m\u001b[0;34m:\u001b[0m \u001b[0mtargets_lengths\u001b[0m\u001b[0;34m,\u001b[0m\u001b[0;34m\u001b[0m\u001b[0m\n\u001b[1;32m     47\u001b[0m                  \u001b[0msource_sequence_length\u001b[0m\u001b[0;34m:\u001b[0m \u001b[0msources_lengths\u001b[0m\u001b[0;34m,\u001b[0m\u001b[0;34m\u001b[0m\u001b[0m\n\u001b[0;32m---> 48\u001b[0;31m                  keep_prob: keep_probability})\n\u001b[0m\u001b[1;32m     49\u001b[0m \u001b[0;34m\u001b[0m\u001b[0m\n\u001b[1;32m     50\u001b[0m \u001b[0;34m\u001b[0m\u001b[0m\n",
      "\u001b[0;32m~/anaconda/envs/tensorflow/lib/python3.5/site-packages/tensorflow/python/client/session.py\u001b[0m in \u001b[0;36mrun\u001b[0;34m(self, fetches, feed_dict, options, run_metadata)\u001b[0m\n\u001b[1;32m    776\u001b[0m     \u001b[0;32mtry\u001b[0m\u001b[0;34m:\u001b[0m\u001b[0;34m\u001b[0m\u001b[0m\n\u001b[1;32m    777\u001b[0m       result = self._run(None, fetches, feed_dict, options_ptr,\n\u001b[0;32m--> 778\u001b[0;31m                          run_metadata_ptr)\n\u001b[0m\u001b[1;32m    779\u001b[0m       \u001b[0;32mif\u001b[0m \u001b[0mrun_metadata\u001b[0m\u001b[0;34m:\u001b[0m\u001b[0;34m\u001b[0m\u001b[0m\n\u001b[1;32m    780\u001b[0m         \u001b[0mproto_data\u001b[0m \u001b[0;34m=\u001b[0m \u001b[0mtf_session\u001b[0m\u001b[0;34m.\u001b[0m\u001b[0mTF_GetBuffer\u001b[0m\u001b[0;34m(\u001b[0m\u001b[0mrun_metadata_ptr\u001b[0m\u001b[0;34m)\u001b[0m\u001b[0;34m\u001b[0m\u001b[0m\n",
      "\u001b[0;32m~/anaconda/envs/tensorflow/lib/python3.5/site-packages/tensorflow/python/client/session.py\u001b[0m in \u001b[0;36m_run\u001b[0;34m(self, handle, fetches, feed_dict, options, run_metadata)\u001b[0m\n\u001b[1;32m    980\u001b[0m     \u001b[0;32mif\u001b[0m \u001b[0mfinal_fetches\u001b[0m \u001b[0;32mor\u001b[0m \u001b[0mfinal_targets\u001b[0m\u001b[0;34m:\u001b[0m\u001b[0;34m\u001b[0m\u001b[0m\n\u001b[1;32m    981\u001b[0m       results = self._do_run(handle, final_targets, final_fetches,\n\u001b[0;32m--> 982\u001b[0;31m                              feed_dict_string, options, run_metadata)\n\u001b[0m\u001b[1;32m    983\u001b[0m     \u001b[0;32melse\u001b[0m\u001b[0;34m:\u001b[0m\u001b[0;34m\u001b[0m\u001b[0m\n\u001b[1;32m    984\u001b[0m       \u001b[0mresults\u001b[0m \u001b[0;34m=\u001b[0m \u001b[0;34m[\u001b[0m\u001b[0;34m]\u001b[0m\u001b[0;34m\u001b[0m\u001b[0m\n",
      "\u001b[0;32m~/anaconda/envs/tensorflow/lib/python3.5/site-packages/tensorflow/python/client/session.py\u001b[0m in \u001b[0;36m_do_run\u001b[0;34m(self, handle, target_list, fetch_list, feed_dict, options, run_metadata)\u001b[0m\n\u001b[1;32m   1030\u001b[0m     \u001b[0;32mif\u001b[0m \u001b[0mhandle\u001b[0m \u001b[0;32mis\u001b[0m \u001b[0;32mNone\u001b[0m\u001b[0;34m:\u001b[0m\u001b[0;34m\u001b[0m\u001b[0m\n\u001b[1;32m   1031\u001b[0m       return self._do_call(_run_fn, self._session, feed_dict, fetch_list,\n\u001b[0;32m-> 1032\u001b[0;31m                            target_list, options, run_metadata)\n\u001b[0m\u001b[1;32m   1033\u001b[0m     \u001b[0;32melse\u001b[0m\u001b[0;34m:\u001b[0m\u001b[0;34m\u001b[0m\u001b[0m\n\u001b[1;32m   1034\u001b[0m       return self._do_call(_prun_fn, self._session, handle, feed_dict,\n",
      "\u001b[0;32m~/anaconda/envs/tensorflow/lib/python3.5/site-packages/tensorflow/python/client/session.py\u001b[0m in \u001b[0;36m_do_call\u001b[0;34m(self, fn, *args)\u001b[0m\n\u001b[1;32m   1037\u001b[0m   \u001b[0;32mdef\u001b[0m \u001b[0m_do_call\u001b[0m\u001b[0;34m(\u001b[0m\u001b[0mself\u001b[0m\u001b[0;34m,\u001b[0m \u001b[0mfn\u001b[0m\u001b[0;34m,\u001b[0m \u001b[0;34m*\u001b[0m\u001b[0margs\u001b[0m\u001b[0;34m)\u001b[0m\u001b[0;34m:\u001b[0m\u001b[0;34m\u001b[0m\u001b[0m\n\u001b[1;32m   1038\u001b[0m     \u001b[0;32mtry\u001b[0m\u001b[0;34m:\u001b[0m\u001b[0;34m\u001b[0m\u001b[0m\n\u001b[0;32m-> 1039\u001b[0;31m       \u001b[0;32mreturn\u001b[0m \u001b[0mfn\u001b[0m\u001b[0;34m(\u001b[0m\u001b[0;34m*\u001b[0m\u001b[0margs\u001b[0m\u001b[0;34m)\u001b[0m\u001b[0;34m\u001b[0m\u001b[0m\n\u001b[0m\u001b[1;32m   1040\u001b[0m     \u001b[0;32mexcept\u001b[0m \u001b[0merrors\u001b[0m\u001b[0;34m.\u001b[0m\u001b[0mOpError\u001b[0m \u001b[0;32mas\u001b[0m \u001b[0me\u001b[0m\u001b[0;34m:\u001b[0m\u001b[0;34m\u001b[0m\u001b[0m\n\u001b[1;32m   1041\u001b[0m       \u001b[0mmessage\u001b[0m \u001b[0;34m=\u001b[0m \u001b[0mcompat\u001b[0m\u001b[0;34m.\u001b[0m\u001b[0mas_text\u001b[0m\u001b[0;34m(\u001b[0m\u001b[0me\u001b[0m\u001b[0;34m.\u001b[0m\u001b[0mmessage\u001b[0m\u001b[0;34m)\u001b[0m\u001b[0;34m\u001b[0m\u001b[0m\n",
      "\u001b[0;32m~/anaconda/envs/tensorflow/lib/python3.5/site-packages/tensorflow/python/client/session.py\u001b[0m in \u001b[0;36m_run_fn\u001b[0;34m(session, feed_dict, fetch_list, target_list, options, run_metadata)\u001b[0m\n\u001b[1;32m   1019\u001b[0m         return tf_session.TF_Run(session, options,\n\u001b[1;32m   1020\u001b[0m                                  \u001b[0mfeed_dict\u001b[0m\u001b[0;34m,\u001b[0m \u001b[0mfetch_list\u001b[0m\u001b[0;34m,\u001b[0m \u001b[0mtarget_list\u001b[0m\u001b[0;34m,\u001b[0m\u001b[0;34m\u001b[0m\u001b[0m\n\u001b[0;32m-> 1021\u001b[0;31m                                  status, run_metadata)\n\u001b[0m\u001b[1;32m   1022\u001b[0m \u001b[0;34m\u001b[0m\u001b[0m\n\u001b[1;32m   1023\u001b[0m     \u001b[0;32mdef\u001b[0m \u001b[0m_prun_fn\u001b[0m\u001b[0;34m(\u001b[0m\u001b[0msession\u001b[0m\u001b[0;34m,\u001b[0m \u001b[0mhandle\u001b[0m\u001b[0;34m,\u001b[0m \u001b[0mfeed_dict\u001b[0m\u001b[0;34m,\u001b[0m \u001b[0mfetch_list\u001b[0m\u001b[0;34m)\u001b[0m\u001b[0;34m:\u001b[0m\u001b[0;34m\u001b[0m\u001b[0m\n",
      "\u001b[0;31mKeyboardInterrupt\u001b[0m: "
     ]
    }
   ],
   "source": [
    "\"\"\"\n",
    "DON'T MODIFY ANYTHING IN THIS CELL\n",
    "\"\"\"\n",
    "def get_accuracy(target, logits):\n",
    "    \"\"\"\n",
    "    Calculate accuracy\n",
    "    \"\"\"\n",
    "    max_seq = max(target.shape[1], logits.shape[1])\n",
    "    if max_seq - target.shape[1]:\n",
    "        target = np.pad(\n",
    "            target,\n",
    "            [(0,0),(0,max_seq - target.shape[1])],\n",
    "            'constant')\n",
    "    if max_seq - logits.shape[1]:\n",
    "        logits = np.pad(\n",
    "            logits,\n",
    "            [(0,0),(0,max_seq - logits.shape[1])],\n",
    "            'constant')\n",
    "\n",
    "    return np.mean(np.equal(target, logits))\n",
    "\n",
    "# Split data to training and validation sets\n",
    "train_source = source_int_text[batch_size:]\n",
    "train_target = target_int_text[batch_size:]\n",
    "valid_source = source_int_text[:batch_size]\n",
    "valid_target = target_int_text[:batch_size]\n",
    "(valid_sources_batch, valid_targets_batch, valid_sources_lengths, valid_targets_lengths ) = next(get_batches(valid_source,\n",
    "                                                                                                             valid_target,\n",
    "                                                                                                             batch_size,\n",
    "                                                                                                             source_vocab_to_int['<PAD>'],\n",
    "                                                                                                             target_vocab_to_int['<PAD>']))                                                                                                  \n",
    "with tf.Session(graph=train_graph) as sess:\n",
    "    sess.run(tf.global_variables_initializer())\n",
    "\n",
    "    for epoch_i in range(epochs):\n",
    "        for batch_i, (source_batch, target_batch, sources_lengths, targets_lengths) in enumerate(\n",
    "                get_batches(train_source, train_target, batch_size,\n",
    "                            source_vocab_to_int['<PAD>'],\n",
    "                            target_vocab_to_int['<PAD>'])):\n",
    "\n",
    "            _, loss = sess.run(\n",
    "                [train_op, cost],\n",
    "                {input_data: source_batch,\n",
    "                 targets: target_batch,\n",
    "                 lr: learning_rate,\n",
    "                 target_sequence_length: targets_lengths,\n",
    "                 source_sequence_length: sources_lengths,\n",
    "                 keep_prob: keep_probability})\n",
    "\n",
    "\n",
    "            if batch_i % display_step == 0 and batch_i > 0:\n",
    "\n",
    "\n",
    "                batch_train_logits = sess.run(\n",
    "                    inference_logits,\n",
    "                    {input_data: source_batch,\n",
    "                     source_sequence_length: sources_lengths,\n",
    "                     target_sequence_length: targets_lengths,\n",
    "                     keep_prob: 1.0})\n",
    "\n",
    "\n",
    "                batch_valid_logits = sess.run(\n",
    "                    inference_logits,\n",
    "                    {input_data: valid_sources_batch,\n",
    "                     source_sequence_length: valid_sources_lengths,\n",
    "                     target_sequence_length: valid_targets_lengths,\n",
    "                     keep_prob: 1.0})\n",
    "\n",
    "                train_acc = get_accuracy(target_batch, batch_train_logits)\n",
    "\n",
    "                valid_acc = get_accuracy(valid_targets_batch, batch_valid_logits)\n",
    "\n",
    "                print('Epoch {:>3} Batch {:>4}/{} - Train Accuracy: {:>6.4f}, Validation Accuracy: {:>6.4f}, Loss: {:>6.4f}'\n",
    "                      .format(epoch_i, batch_i, len(source_int_text) // batch_size, train_acc, valid_acc, loss))\n",
    "\n",
    "    # Save Model\n",
    "    saver = tf.train.Saver()\n",
    "    saver.save(sess, save_path)\n",
    "    print('Model Trained and Saved')"
   ]
  },
  {
   "cell_type": "markdown",
   "metadata": {},
   "source": [
    "### Save Parameters\n",
    "Save the `batch_size` and `save_path` parameters for inference."
   ]
  },
  {
   "cell_type": "code",
   "execution_count": null,
   "metadata": {
    "collapsed": true
   },
   "outputs": [],
   "source": [
    "\"\"\"\n",
    "DON'T MODIFY ANYTHING IN THIS CELL\n",
    "\"\"\"\n",
    "# Save parameters for checkpoint\n",
    "helper.save_params(save_path)"
   ]
  },
  {
   "cell_type": "markdown",
   "metadata": {},
   "source": [
    "# Checkpoint"
   ]
  },
  {
   "cell_type": "code",
   "execution_count": null,
   "metadata": {
    "collapsed": true
   },
   "outputs": [],
   "source": [
    "\"\"\"\n",
    "DON'T MODIFY ANYTHING IN THIS CELL\n",
    "\"\"\"\n",
    "import tensorflow as tf\n",
    "import numpy as np\n",
    "import helper\n",
    "import problem_unittests as tests\n",
    "\n",
    "_, (source_vocab_to_int, target_vocab_to_int), (source_int_to_vocab, target_int_to_vocab) = helper.load_preprocess()\n",
    "load_path = helper.load_params()"
   ]
  },
  {
   "cell_type": "markdown",
   "metadata": {},
   "source": [
    "## Sentence to Sequence\n",
    "To feed a sentence into the model for translation, you first need to preprocess it.  Implement the function `sentence_to_seq()` to preprocess new sentences.\n",
    "\n",
    "- Convert the sentence to lowercase\n",
    "- Convert words into ids using `vocab_to_int`\n",
    " - Convert words not in the vocabulary, to the `<UNK>` word id."
   ]
  },
  {
   "cell_type": "code",
   "execution_count": null,
   "metadata": {
    "collapsed": true
   },
   "outputs": [],
   "source": [
    "def sentence_to_seq(sentence, vocab_to_int):\n",
    "    \"\"\"\n",
    "    Convert a sentence to a sequence of ids\n",
    "    :param sentence: String\n",
    "    :param vocab_to_int: Dictionary to go from the words to an id\n",
    "    :return: List of word ids\n",
    "    \"\"\"\n",
    "    # TODO: Implement Function\n",
    "    return None\n",
    "\n",
    "\n",
    "\"\"\"\n",
    "DON'T MODIFY ANYTHING IN THIS CELL THAT IS BELOW THIS LINE\n",
    "\"\"\"\n",
    "tests.test_sentence_to_seq(sentence_to_seq)"
   ]
  },
  {
   "cell_type": "markdown",
   "metadata": {},
   "source": [
    "## Translate\n",
    "This will translate `translate_sentence` from English to French."
   ]
  },
  {
   "cell_type": "code",
   "execution_count": null,
   "metadata": {
    "collapsed": true
   },
   "outputs": [],
   "source": [
    "translate_sentence = 'he saw a old yellow truck .'\n",
    "\n",
    "\n",
    "\"\"\"\n",
    "DON'T MODIFY ANYTHING IN THIS CELL\n",
    "\"\"\"\n",
    "translate_sentence = sentence_to_seq(translate_sentence, source_vocab_to_int)\n",
    "\n",
    "loaded_graph = tf.Graph()\n",
    "with tf.Session(graph=loaded_graph) as sess:\n",
    "    # Load saved model\n",
    "    loader = tf.train.import_meta_graph(load_path + '.meta')\n",
    "    loader.restore(sess, load_path)\n",
    "\n",
    "    input_data = loaded_graph.get_tensor_by_name('input:0')\n",
    "    logits = loaded_graph.get_tensor_by_name('predictions:0')\n",
    "    target_sequence_length = loaded_graph.get_tensor_by_name('target_sequence_length:0')\n",
    "    source_sequence_length = loaded_graph.get_tensor_by_name('source_sequence_length:0')\n",
    "    keep_prob = loaded_graph.get_tensor_by_name('keep_prob:0')\n",
    "\n",
    "    translate_logits = sess.run(logits, {input_data: [translate_sentence]*batch_size,\n",
    "                                         target_sequence_length: [len(translate_sentence)*2]*batch_size,\n",
    "                                         source_sequence_length: [len(translate_sentence)]*batch_size,\n",
    "                                         keep_prob: 1.0})[0]\n",
    "\n",
    "print('Input')\n",
    "print('  Word Ids:      {}'.format([i for i in translate_sentence]))\n",
    "print('  English Words: {}'.format([source_int_to_vocab[i] for i in translate_sentence]))\n",
    "\n",
    "print('\\nPrediction')\n",
    "print('  Word Ids:      {}'.format([i for i in translate_logits]))\n",
    "print('  French Words: {}'.format(\" \".join([target_int_to_vocab[i] for i in translate_logits])))\n"
   ]
  },
  {
   "cell_type": "markdown",
   "metadata": {},
   "source": [
    "## Imperfect Translation\n",
    "You might notice that some sentences translate better than others.  Since the dataset you're using only has a vocabulary of 227 English words of the thousands that you use, you're only going to see good results using these words.  For this project, you don't need a perfect translation. However, if you want to create a better translation model, you'll need better data.\n",
    "\n",
    "You can train on the [WMT10 French-English corpus](http://www.statmt.org/wmt10/training-giga-fren.tar).  This dataset has more vocabulary and richer in topics discussed.  However, this will take you days to train, so make sure you've a GPU and the neural network is performing well on dataset we provided.  Just make sure you play with the WMT10 corpus after you've submitted this project.\n",
    "## Submitting This Project\n",
    "When submitting this project, make sure to run all the cells before saving the notebook. Save the notebook file as \"dlnd_language_translation.ipynb\" and save it as a HTML file under \"File\" -> \"Download as\". Include the \"helper.py\" and \"problem_unittests.py\" files in your submission."
   ]
  }
 ],
 "metadata": {
  "anaconda-cloud": {},
  "kernelspec": {
   "display_name": "Python 3",
   "language": "python",
   "name": "python3"
  },
  "language_info": {
   "codemirror_mode": {
    "name": "ipython",
    "version": 3
   },
   "file_extension": ".py",
   "mimetype": "text/x-python",
   "name": "python",
   "nbconvert_exporter": "python",
   "pygments_lexer": "ipython3",
   "version": "3.5.3"
  }
 },
 "nbformat": 4,
 "nbformat_minor": 1
}
